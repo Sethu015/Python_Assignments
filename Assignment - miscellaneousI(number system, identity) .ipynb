{
 "cells": [
  {
   "cell_type": "code",
   "execution_count": 19,
   "id": "66b00af0",
   "metadata": {
    "id": "66b00af0"
   },
   "outputs": [],
   "source": [
    "\n",
    "def ascii_distance(first, second):\n",
    "    \"\"\"\n",
    "    returns the positive distance between the ascii values of input characters\n",
    "    assume: inputs are valid single letters\n",
    "    e.g. inputs (\"a\", \"b\") should return 1,\n",
    "        inputs (\"b\", \"a\") should return 1 too (postive distance)\n",
    "    \"\"\"\n",
    "    return abs(ord(first)-ord(second)) # use 2 builtin functions to get your work done.\n",
    "\n",
    "def test_ascii_distance():\n",
    "    assert 1 == ascii_distance(\"a\", \"b\")\n",
    "    assert 1 == ascii_distance(\"b\", \"a\")\n",
    "    assert 1 == ascii_distance(\"B\", \"A\")\n",
    "    assert 32 == ascii_distance(\"A\", \"a\")\n",
    "    assert 31 == ascii_distance(\"B\", \"a\")\n",
    "\n",
    "test_ascii_distance()"
   ]
  },
  {
   "cell_type": "code",
   "execution_count": 18,
   "id": "c420a5f6",
   "metadata": {
    "id": "c420a5f6"
   },
   "outputs": [],
   "source": [
    "\n",
    "    \n",
    "def get_binary(number):\n",
    "    \"\"\"\n",
    "    Return the binary string of number (>=0) without 0b prefix.\n",
    "    For e.g 5 returns \"101\", 20 returns \"10100\" etc.\n",
    "    \"\"\"\n",
    "    bin_ = bin(number)\n",
    "    return  bin_[2:]# use a builtin and slice the result ...\n",
    "\n",
    "def test_get_binary():\n",
    "    assert \"100\" == get_binary(4)\n",
    "    assert \"11111111\" == get_binary(255)\n",
    "    assert \"0\" == get_binary(0)\n",
    "\n",
    "test_get_binary()"
   ]
  },
  {
   "cell_type": "markdown",
   "id": "f3f6b202",
   "metadata": {
    "id": "f3f6b202"
   },
   "source": [
    "### Fill Assert statements such that code executes without any assertion error"
   ]
  },
  {
   "cell_type": "code",
   "execution_count": 2,
   "id": "adf8445a",
   "metadata": {
    "id": "adf8445a"
   },
   "outputs": [],
   "source": [
    "def test_identity_equality_lists():\n",
    "    a = []\n",
    "    b = []\n",
    "    assert True == (a is b) # evaluate to tRUE when id of a and id of b is same\n",
    "    assert True == (a == b)\n",
    "\n",
    "    a.append(\"one\")\n",
    "    assert True == (a is b)\n",
    "    assert True == (a == b)\n",
    "\n",
    "    c = []\n",
    "    d = c\n",
    "    assert True == (c is d)\n",
    "    assert True == (c == d)\n",
    "\n",
    "    c.append(\"one\")\n",
    "    assert True == (c is d)\n",
    "    assert True == (c == d)\n"
   ]
  },
  {
   "cell_type": "code",
   "execution_count": 6,
   "id": "9603b08a",
   "metadata": {
    "id": "9603b08a"
   },
   "outputs": [],
   "source": [
    "\n",
    "def test_identity_equality_string():\n",
    "    a = b = \"hello\"\n",
    "\n",
    "    assert True == (a is b)\n",
    "    assert True == (a == b)\n",
    "\n",
    "    c = \"hello\"\n",
    "    d = \"\".join([\"hel\", \"lo\"])\n",
    "    assert False == (c is d)\n",
    "    assert True == (c == d)\n",
    "\n",
    "test_identity_equality_string()\n",
    "    \n",
    "def test_identity_equality_numbers():\n",
    "    a = b = 10000\n",
    "    assert True == (a is b)\n",
    "    assert True == (a == b)\n",
    "\n",
    "    c = 10000\n",
    "    d = int(\"10000\")\n",
    "    assert False == (c is d)\n",
    "    assert True == (c == d)\n",
    "\n",
    "test_identity_equality_numbers()    \n",
    "    \n",
    "def test_identity_equality_small_numbers():\n",
    "    \n",
    "    a = b = 10\n",
    "    assert True == (a is b)\n",
    "    assert True == ( a == b)\n",
    "\n",
    "    c = 10\n",
    "    d = int(\"10\")\n",
    "    assert True == (c is d)\n",
    "    assert True == (c == d)\n",
    "\n",
    "test_identity_equality_small_numbers()\n",
    "    \n",
    "    \n",
    "def test_identity_equality_None():\n",
    "    a = b = None\n",
    "    assert True == (a is b)\n",
    "    assert  True == (a == b)\n",
    "\n",
    "    a = None\n",
    "    b = None\n",
    "    assert True == (a is b)\n",
    "    assert True == (a == b)\n",
    "test_identity_equality_None()"
   ]
  },
  {
   "cell_type": "code",
   "execution_count": 15,
   "id": "4f0cf6ee",
   "metadata": {
    "id": "4f0cf6ee"
   },
   "outputs": [],
   "source": [
    "def test_equality():\n",
    "    assert False == (\"\" == True)\n",
    "    assert False == (() == True)\n",
    "    assert False == ([] == True)\n",
    "    assert False == (set() == True)\n",
    "    assert False  == (0 == True)\n",
    "    assert False == (\"\" == False)\n",
    "    assert False == (() == False)\n",
    "    assert False == ([] == False)\n",
    "    assert False == (set() == False)\n",
    "    assert True == (0 == False) # what happened here? This is the value of the boolean value False.\n",
    "    assert True == (1 == True)\n",
    "    assert False == (\"a\" == True)\n",
    "    assert False == ((1,2) == True)\n",
    "    assert False == ([1] == True)\n",
    "    assert False == ({1} == True)\n",
    "\n",
    "\n",
    "test_equality()\n"
   ]
  },
  {
   "cell_type": "code",
   "execution_count": 16,
   "id": "19353589",
   "metadata": {
    "id": "19353589"
   },
   "outputs": [],
   "source": [
    "def truth_test(object, description):\n",
    "    if object:\n",
    "        return description + \" is treated as true\"\n",
    "    else:\n",
    "        return description + \" is treated as false\"\n",
    "\n",
    "def test_truth_values():\n",
    "    assert \"empty string is treated as false\" == truth_test(\"\", \"empty string\")\n",
    "    assert \"empty tuple is treated as false\" == truth_test((), \"empty tuple\")\n",
    "    assert \"empty list is treated as false\" == truth_test([], \"empty list\")\n",
    "    assert \"empty dict is treated as false\" == truth_test({}, \"empty dict\")\n",
    "    assert \"empty set is treated as false\" == truth_test(set(), \"empty set\")\n",
    "    assert \"white space is treated as true\" == truth_test(\" \", \"white space\")\n",
    "    assert \"0 is treated as false\" == truth_test(0, \"0\")\n",
    "    assert \"1 is treated as true\" == truth_test(1, \"1\")\n",
    "    assert \"non-empty-string is treated as true\" == truth_test(\"a\", \"non-empty-string\")\n",
    "    assert \"non-empty-tuple is treated as true\" == truth_test((1,2), \"non-empty-tuple\")\n",
    "    assert \"non-empty-list is treated as true\" == truth_test([1], \"non-empty-list\")\n",
    "    assert \"non-empty-dict is treated as true\" == truth_test({1:2}, \"non-empty-dict\")\n",
    "    assert \"non-empty-set is treated as true\" == truth_test({1}, \"non-empty-set\")\n",
    "    \n",
    "    \n",
    "test_truth_values()"
   ]
  },
  {
   "cell_type": "code",
   "execution_count": 17,
   "id": "a85578dc",
   "metadata": {
    "id": "a85578dc"
   },
   "outputs": [],
   "source": [
    "\n",
    "def bit_count_even(number):\n",
    "    \"\"\"\n",
    "    Returns True if the binary representation of number (>=0) has even number of 1s.\n",
    "    E.g 5 (101) returns True, 6 (110) returns True,  7 (111) returns False.\n",
    "    Hint: see the supported methods of str.\n",
    "    \"\"\"\n",
    "    count = 0\n",
    "    bin_num = bin(number)\n",
    "    bin_str = str(bin_num)\n",
    "    for char in bin_str:\n",
    "      if char == \"1\":\n",
    "        count += 1\n",
    "    if count % 2 == 0:\n",
    "      return True\n",
    "    else:\n",
    "      return False\n",
    "\n",
    "def test_bit_count_even():\n",
    "    assert True == bit_count_even(0xFF)\n",
    "    assert False == bit_count_even(0xFE)\n",
    "    assert True == bit_count_even(0)\n",
    "    assert False == bit_count_even(8)"
   ]
  },
  {
   "cell_type": "code",
   "execution_count": null,
   "id": "4d7c1948",
   "metadata": {
    "id": "4d7c1948"
   },
   "outputs": [],
   "source": []
  },
  {
   "cell_type": "code",
   "execution_count": null,
   "id": "3854d22f",
   "metadata": {
    "id": "3854d22f"
   },
   "outputs": [],
   "source": []
  },
  {
   "cell_type": "code",
   "execution_count": null,
   "id": "c23285aa",
   "metadata": {
    "id": "c23285aa"
   },
   "outputs": [],
   "source": []
  }
 ],
 "metadata": {
  "colab": {
   "name": "Assignment - miscellaneousI(number system, identity) .ipynb",
   "provenance": []
  },
  "kernelspec": {
   "display_name": "Python 3 (ipykernel)",
   "language": "python",
   "name": "python3"
  },
  "language_info": {
   "codemirror_mode": {
    "name": "ipython",
    "version": 3
   },
   "file_extension": ".py",
   "mimetype": "text/x-python",
   "name": "python",
   "nbconvert_exporter": "python",
   "pygments_lexer": "ipython3",
   "version": "3.9.12"
  }
 },
 "nbformat": 4,
 "nbformat_minor": 5
}
